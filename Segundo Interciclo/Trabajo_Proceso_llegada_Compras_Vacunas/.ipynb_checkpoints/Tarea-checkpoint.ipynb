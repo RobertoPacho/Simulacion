{
 "cells": [
  {
   "cell_type": "markdown",
   "id": "5514af94",
   "metadata": {},
   "source": [
    "# UNIVERSIDAD POLITÉCNICA SALESIANA\n",
    "\n",
    "## Roberto Pacho\n",
    "## Trabajo Proceso llegada Compras Vacunas"
   ]
  },
  {
   "cell_type": "markdown",
   "id": "a6404653",
   "metadata": {},
   "source": [
    "\n",
    "### Ejercicio/Tarea\n",
    "\n",
    "Utilizando las tareas de la predicción de llegadas de vacunas y el recinto de vacunación, realizar un sistema que permita simular y correlacionar el procesos de llegada/compras de vacuna con el procesos de vacunación, en donde si no se tiene un stock/número de vacunas las personas tendran que esperar/reasignar a otro día en donde exista vacunas dentro del establecimiento y realizar el proceso de vacunación"
   ]
  },
  {
   "cell_type": "code",
   "execution_count": 1,
   "id": "742f953b",
   "metadata": {},
   "outputs": [],
   "source": [
    "import simpy\n",
    "def llegada_vacuna(env, stock):\n",
    "    for i in range(1000):\n",
    "        yield env.timeout(2)\n",
    "        yield stock.put(f'vacuna{i}')\n",
    "        print(f'<---Llega la vacuna {i}  --> en el tiempo---> {env.now}')"
   ]
  },
  {
   "cell_type": "code",
   "execution_count": 2,
   "id": "ed9db5c7",
   "metadata": {},
   "outputs": [
    {
     "name": "stdout",
     "output_type": "stream",
     "text": [
      "1***> vacuna en el tiempo 1\n",
      "1***> vacuna en el tiempo 2\n",
      "<---Llega la vacuna 0  --> en el tiempo---> 2\n",
      "1***> vacuna en el tiempo 3\n",
      "1***> vacuna en el tiempo 4\n",
      "1***> vacuna en el tiempo 5\n",
      "1***> vacuna en el tiempo 6\n",
      "1***> vacuna en el tiempo 7\n",
      "1***> vacuna en el tiempo 8\n",
      "1***> vacuna en el tiempo 9\n"
     ]
    }
   ],
   "source": [
    "\n",
    "\n",
    "def paciente(nombre,env,stock):\n",
    "    while True:\n",
    "        yield env.timeout(1)\n",
    "        print(f'{nombre}***> vacuna en el tiempo {env.now}')\n",
    "env = simpy.Environment()\n",
    "stock = simpy.Store(env, capacity=1)\n",
    "llegada = env.process(llegada_vacuna(env, stock))\n",
    "paciente = env.process(paciente(\"1\",env, stock))\n",
    "env.run(until=10)"
   ]
  },
  {
   "cell_type": "code",
   "execution_count": 3,
   "id": "ae456900",
   "metadata": {},
   "outputs": [],
   "source": [
    "def vacuna_terminada(env, espera):\n",
    "    for wait in [simpy.PriorityItem('P2','0'),simpy.PriorityItem('P0','1'),simpy.PriorityItem('P3','2'),simpy.PriorityItem('P1','3')]:\n",
    "        yield env.timeout(1)\n",
    "        print(f'****En el tiempo**** {env.now} se terminan las vacunas -----> {wait}')\n",
    "        yield espera.put(wait)"
   ]
  },
  {
   "cell_type": "code",
   "execution_count": 4,
   "id": "d6e85bea",
   "metadata": {},
   "outputs": [
    {
     "name": "stdout",
     "output_type": "stream",
     "text": [
      "****En el tiempo**** 1 se terminan las vacunas -----> PriorityItem(priority='P2', item='0')\n",
      "****En el tiempo**** 2 se terminan las vacunas -----> PriorityItem(priority='P0', item='1')\n",
      "****En el tiempo**** 3 se terminan las vacunas -----> PriorityItem(priority='P3', item='2')\n",
      "Se reasigna al paciente ------>PriorityItem(priority='P2', item='0') en el tiempo 4\n",
      "****En el tiempo**** 4 se terminan las vacunas -----> PriorityItem(priority='P1', item='3')\n",
      "Se reasigna al paciente ------>PriorityItem(priority='P0', item='1') en el tiempo 7\n",
      "Se reasigna al paciente ------>PriorityItem(priority='P1', item='3') en el tiempo 10\n",
      "Se reasigna al paciente ------>PriorityItem(priority='P3', item='2') en el tiempo 13\n"
     ]
    }
   ],
   "source": [
    "def reasigna_vacuna(env,espera):\n",
    "    while True:\n",
    "        wait = yield espera.get()\n",
    "        yield env.timeout(3)\n",
    "        print(f'Se reasigna al paciente ------>{wait} en el tiempo {env.now}')\n",
    "\n",
    "\n",
    "env = simpy.Environment()\n",
    "espera = simpy.PriorityStore(env)\n",
    "env.process(vacuna_terminada(env,espera))\n",
    "env.process(reasigna_vacuna(env, espera))\n",
    "env.run(until=20)"
   ]
  },
  {
   "cell_type": "code",
   "execution_count": null,
   "id": "883bad8a",
   "metadata": {},
   "outputs": [],
   "source": []
  },
  {
   "cell_type": "code",
   "execution_count": null,
   "id": "35c56af4",
   "metadata": {},
   "outputs": [],
   "source": []
  }
 ],
 "metadata": {
  "kernelspec": {
   "display_name": "Python 3",
   "language": "python",
   "name": "python3"
  },
  "language_info": {
   "codemirror_mode": {
    "name": "ipython",
    "version": 3
   },
   "file_extension": ".py",
   "mimetype": "text/x-python",
   "name": "python",
   "nbconvert_exporter": "python",
   "pygments_lexer": "ipython3",
   "version": "3.7.11"
  }
 },
 "nbformat": 4,
 "nbformat_minor": 5
}
