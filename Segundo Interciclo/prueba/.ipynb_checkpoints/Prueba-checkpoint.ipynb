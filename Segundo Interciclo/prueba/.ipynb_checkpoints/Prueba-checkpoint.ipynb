{
 "cells": [
  {
   "cell_type": "markdown",
   "metadata": {
    "id": "mhs9-grBOlsR"
   },
   "source": [
    "![imagen.png](attachment:imagen.png)\n",
    "\n",
    "### Roberto Pacho\n",
    "\n",
    "\n",
    "### Objetivo:\n",
    "\n",
    "*  Consolidar los conocimientos adquiridos en clase para desarrollar simulaciones basados en eventos discretos.\n",
    "\n",
    "### Introducción:\n",
    "\n",
    "El golpe económico de la crisis sanitaria del corona virus no va a ser cosa de semanas, sino de meses. Dentro de una de las etapas importantes posteriores a las elecciones presidenciales son la re activación de los pequeños comercios y/o centros educativos. Para ello se plantea realizar  un modelo de simulación de eventos discretos que permita determinar cual son los principales factores para la re activación de la educación en el ingreso a las aulas de los estudiantes[1].\n",
    "\n",
    "### Enunciado\n",
    "\n",
    "* Diseñe y desarrolle un modelo y/o script que permita simular el siguiente caso real:\n",
    "\n",
    "En base a los datos del siguiente link https://educacion.gob.ec/wp-content/uploads/downloads/2012/08/AZUAY11.pdf, genere una simulación del ingresos de los estudiantes, para ello debemos escoger un establecimiento y en base a los docentes y estudiantes modelar el reingreso de los estudiantes en base a los siguientes datos.\n",
    "* Solo se va a tener en cuenta uno de los planteles educativos(Escuela, colegio, universidad dentro del Azuay).\n",
    "* Se tiene un promedio que el 90% de los docentes han sido vacunados y pueden realizar el proceso de ingreso en cada uno de los cursos.\n",
    "* Dentro del procesos se tiene que alrededor del 5% - 10% de los estudiantes no podrán asistir debido a no presentar la vacuna/enfermedades adyacentes.\n",
    "* Los estudiantes solo pertenecen a una sola entidad educativa al igual que los docentes.\n",
    "* Se va  a tener un periodo de prueba de un mes, posterior a ello se realiza al azar al 10% de estudiantes una prueba PCR para validar que no estén contagiados.\n",
    "        * De la ultima el 2% de los estudiantes dan positivo por lo que se cierra el curso completo.\n",
    "        * Los estudiantes asisten cada semana y estos están en un horario de 6 horas ya sea diurno o nocturno.\n",
    "        * Tienen un receso 30 minutos dentro del establecimiento en donde se concentran todos los estudiantes y exite un foco de contagio del 2%.\n",
    "* El proceso de simulación desarrollado deberá considerar los siguientes aspectos:\n",
    "        * Generar un cuaderno de Python para el desarrollo y parametrización de graficas, reportes, y animación (Simpy).\n",
    "        * Generar una animación en 2D/3D del modelo propuesto.\n",
    "        * Obtener los siguientes análisis:\n",
    "                * Cuantos contagiados tengo al final del mes.\n",
    "                * Cuantos cursos debo cerrar.\n",
    "                * Cuantos estudiantes y docentes ingresan y salen al final del mes.\n",
    "            * Opinión\n",
    "            * Conclusiones\n",
    "            * Recomendaciones.\n",
    "    * Fechas de Presentación: 04/07/2021 – 23:55 Subir al Avac en formato PDF y al Git los cuadernos de Python desarrollados."
   ]
  },
  {
   "cell_type": "markdown",
   "metadata": {
    "id": "zvi7cl-fOxLV"
   },
   "source": [
    "Desarrollo del modelo de simulación\n",
    "\n",
    "    Número de docentes: 60\n",
    "    Número de cursos: 22\n",
    "    Número de estudiantes: 745\n",
    "\n",
    "Con estas características procedemos a inicializar los parámetros necesarios para realizar nuestra simulación:\n",
    "\n",
    "\n",
    "\n",
    "## Parámetros iniciales de la simulación.\n",
    "\n",
    "Tomando en cuenta los requerimientos se obtienen lso siguientes parámetros:\n",
    "\n",
    "* Existira un total de 50 docentes ya que el 90% debe asistir al plantel.\n",
    "* Existira un total de 735 estudiantes que asistirán al plantel educativo ya que el 5%-10% no podra asistir por enfermedad o vacuna.\n",
    "* Existira un horario de 6 horas, es decir 360 min para realizar la simulación de cada día.\n",
    "* se tiene un receso de 30 min cada día en donde existira una posibilidad de contagio."
   ]
  },
  {
   "cell_type": "code",
   "execution_count": 1,
   "metadata": {
    "id": "SLmqVijqOcnQ"
   },
   "outputs": [],
   "source": [
    "NUMERO_DOCENTES              = 50\n",
    "NUMERO_ESTUDIANTES           = 735\n",
    "CURSOS                       = 22\n",
    "NUMERO_ESTUDIANTES_POR_CURSO = NUMERO_ESTUDIANTES//CURSOS\n",
    "TIEMPO_SIMULACION            = 360*NUMERO_ESTUDIANTES\n",
    "DIAS                         = 0\n",
    "MES                          = 'SEPTIEMBRE'\n",
    "RESCESO                      = 30"
   ]
  },
  {
   "cell_type": "markdown",
   "metadata": {
    "id": "8-pPB8OTPLYS"
   },
   "source": [
    "## Creamos los estudiantes que se van a clases  y maestros\n",
    "\n",
    "Mediante la clase Student vamos a crear los estudiantes que van a ingresar en nuestra simulación. Para ello se crea una lista de estudiantes que contiene la clase estudiante."
   ]
  },
  {
   "cell_type": "code",
   "execution_count": 2,
   "metadata": {
    "id": "Aza9MUj9PKCb"
   },
   "outputs": [],
   "source": [
    "class Estudiante:  \n",
    "    def __init__(self,nombre,curso,infectado,examen):\n",
    "        self.nombre    = nombre\n",
    "        self.curso     = curso\n",
    "        self.infectado = infectado\n",
    "        self.examen    = examen\n",
    "        \n",
    "class Maestro:\n",
    "    def __init__(self,nombre,infectado,examen):\n",
    "        self.nombre      = nombre\n",
    "        self.curso       = 'indefinido'\n",
    "        self.institucion = 'Unidad Educativa Humboldt'\n",
    "        self.infectado   = infectado\n",
    "        self.examen      = examen\n",
    "    \n",
    "def llenarEstudiantes():\n",
    "    count=1\n",
    "    lista_estudiantes = {}\n",
    "    cursos_nivel      = ['octavo','noveno','decimo','primero','segundo','tercero']\n",
    "    cursos_id         = ['A','B','C','D']\n",
    "    for i in cursos_nivel:\n",
    "        for j in cursos_id:\n",
    "            for z in range(0,NUMERO_ESTUDIANTES_POR_CURSO+3 if i=='tercero' else NUMERO_ESTUDIANTES_POR_CURSO):\n",
    "                nombre='estudiante_{}'.format(count)\n",
    "                estudiante = Estudiante(nombre,'{}_{}'.format(i,j),0,0)\n",
    "                lista_estudiantes[nombre]=estudiante\n",
    "                count+=1\n",
    "    return lista_estudiantes\n",
    "\n",
    "def llenarMaestros():\n",
    "    count=1\n",
    "    lista_maestros = {}\n",
    "    for i in range(0,NUMERO_DOCENTES):\n",
    "        nombre = 'maestro_{}'.format(count)\n",
    "        maestro = Maestro(nombre,0,0)\n",
    "        lista_maestros[nombre]=maestro\n",
    "        count+=1\n",
    "    return lista_maestros"
   ]
  },
  {
   "cell_type": "markdown",
   "metadata": {
    "id": "VRsOUiInPiJN"
   },
   "source": [
    "Llenamos estudiantes que van a estar en nuestra simulación y procedemos inicializarlos. A continuación se ve como se crearón los estudiantes."
   ]
  },
  {
   "cell_type": "code",
   "execution_count": 3,
   "metadata": {
    "id": "it6sONr1PqgR"
   },
   "outputs": [],
   "source": [
    "LISTA_ESTUDIANTES = llenarEstudiantes()\n",
    "LISTA_MAESTROS    = llenarMaestros()"
   ]
  },
  {
   "cell_type": "markdown",
   "metadata": {
    "id": "dpzRllNtP0zD"
   },
   "source": [
    "Una vez realizado esto unificamos los datos para tener un total de personas que iran al plantel y poder realizar toda la simulación."
   ]
  },
  {
   "cell_type": "code",
   "execution_count": 4,
   "metadata": {
    "id": "rcDuAx53P2S1"
   },
   "outputs": [],
   "source": [
    "LISTA_PERSONAS = {**LISTA_ESTUDIANTES,**LISTA_MAESTROS}"
   ]
  },
  {
   "cell_type": "markdown",
   "metadata": {
    "id": "0dOzMT6yP-KH"
   },
   "source": [
    "## Ejecución de la simulación\n",
    "\n",
    "### Importamos librerias\n",
    "\n",
    "Las librerías que utilizamos son ```simpy``` para nuestra simulación y ```random``` para la generación de valores randómicos."
   ]
  },
  {
   "cell_type": "code",
   "execution_count": 9,
   "metadata": {
    "id": "FPmOjC7hP__A"
   },
   "outputs": [],
   "source": [
    "import simpy\n",
    "import random\n",
    "\n",
    "\n",
    "class Colegio():\n",
    "    def __init__(self,environment):\n",
    "        self.env          = environment\n",
    "        self.pcr          = simpy.Resource(self.env,5)\n",
    "        \n",
    "    def proceso_clases(self):\n",
    "        yield self.env.timeout(165)\n",
    "    \n",
    "    def proceso_receso(self):\n",
    "        global RESCESO\n",
    "        yield self.env.timeout(RESCESO)\n",
    "        \n",
    "    def proceso_prueba(self):\n",
    "        yield self.env.timeout(2)\n",
    "        \n",
    "    def proceso_dia_clases(self,persona):\n",
    "        yield self.env.process(self.proceso_clases())\n",
    "        yield self.env.process(self.proceso_receso())\n",
    "        if(random.randint(1,100)>98):\n",
    "            persona.infectado=1\n",
    "            LISTA_PERSONAS[persona.nombre] = persona\n",
    "        yield self.env.process(self.proceso_clases())\n",
    "    \n",
    "    def proceso_pcr(self,persona):\n",
    "        with self.pcr.request() as pcr:\n",
    "            yield pcr\n",
    "            yield self.env.process(self.proceso_prueba())\n",
    "            if(random.randint(1,100)>(95 if persona.infectado==1 else 98)):\n",
    "                persona.infectado=2\n",
    "                LISTA_PERSONAS[persona.nombre] = persona\n",
    "\n",
    "class Simulacion():\n",
    "    \n",
    "    def ejecutar_simulacion(self,env,filtrado):\n",
    "        colegio = Colegio(env)\n",
    "        global DIAS\n",
    "        if DIAS < 31:\n",
    "            print('inrgresan {} personas a la instituación'.format(len(filtrado)))\n",
    "            for i in filtrado.items():\n",
    "                yield env.process(colegio.proceso_dia_clases(i[1]))\n",
    "        else:\n",
    "            print('se tomo una muestra de: {} para prueba PCR'.format(int(len(LISTA_PERSONAS)*0.1)))\n",
    "            for i in random.choices(list(LISTA_PERSONAS.keys()),k=int(len(LISTA_PERSONAS)*0.1)):\n",
    "                env.process(colegio.proceso_pcr(LISTA_PERSONAS[i]))\n",
    "                \n",
    "def filtrar_posibles_contagios():\n",
    "    filtrado={}\n",
    "    for i in LISTA_PERSONAS.items():\n",
    "        if i[1].infectado!=1:\n",
    "            filtrado[i[0]]=i[1]\n",
    "    return filtrado"
   ]
  },
  {
   "cell_type": "code",
   "execution_count": 10,
   "metadata": {
    "colab": {
     "base_uri": "https://localhost:8080/"
    },
    "id": "Xtjj2zcmRYQC",
    "outputId": "9fe5bd6d-5dc7-4746-9665-456a96adadd9"
   },
   "outputs": [
    {
     "name": "stdout",
     "output_type": "stream",
     "text": [
      "========== DÍA 0 ==========\n",
      "inrgresan 854 personas a la instituación\n",
      "posibles infectados con corte en el día: 15\n",
      "========== DÍA 1 ==========\n",
      "inrgresan 839 personas a la instituación\n",
      "posibles infectados con corte en el día: 33\n",
      "========== DÍA 2 ==========\n",
      "inrgresan 821 personas a la instituación\n",
      "posibles infectados con corte en el día: 44\n",
      "========== DÍA 3 ==========\n",
      "inrgresan 810 personas a la instituación\n",
      "posibles infectados con corte en el día: 62\n",
      "========== DÍA 4 ==========\n",
      "inrgresan 792 personas a la instituación\n",
      "posibles infectados con corte en el día: 75\n",
      "========== DÍA 5 ==========\n",
      "inrgresan 779 personas a la instituación\n",
      "posibles infectados con corte en el día: 88\n",
      "========== DÍA 6 ==========\n",
      "inrgresan 766 personas a la instituación\n",
      "posibles infectados con corte en el día: 97\n",
      "========== DÍA 7 ==========\n",
      "inrgresan 757 personas a la instituación\n",
      "posibles infectados con corte en el día: 115\n",
      "========== DÍA 8 ==========\n",
      "inrgresan 739 personas a la instituación\n",
      "posibles infectados con corte en el día: 126\n",
      "========== DÍA 9 ==========\n",
      "inrgresan 728 personas a la instituación\n",
      "posibles infectados con corte en el día: 140\n",
      "========== DÍA 10 ==========\n",
      "inrgresan 714 personas a la instituación\n",
      "posibles infectados con corte en el día: 150\n",
      "========== DÍA 11 ==========\n",
      "inrgresan 704 personas a la instituación\n",
      "posibles infectados con corte en el día: 160\n",
      "========== DÍA 12 ==========\n",
      "inrgresan 694 personas a la instituación\n",
      "posibles infectados con corte en el día: 173\n",
      "========== DÍA 13 ==========\n",
      "inrgresan 681 personas a la instituación\n",
      "posibles infectados con corte en el día: 181\n",
      "========== DÍA 14 ==========\n",
      "inrgresan 673 personas a la instituación\n",
      "posibles infectados con corte en el día: 193\n",
      "========== DÍA 15 ==========\n",
      "inrgresan 661 personas a la instituación\n",
      "posibles infectados con corte en el día: 207\n",
      "========== DÍA 16 ==========\n",
      "inrgresan 647 personas a la instituación\n",
      "posibles infectados con corte en el día: 222\n",
      "========== DÍA 17 ==========\n",
      "inrgresan 632 personas a la instituación\n",
      "posibles infectados con corte en el día: 235\n",
      "========== DÍA 18 ==========\n",
      "inrgresan 619 personas a la instituación\n",
      "posibles infectados con corte en el día: 245\n",
      "========== DÍA 19 ==========\n",
      "inrgresan 609 personas a la instituación\n",
      "posibles infectados con corte en el día: 259\n",
      "========== DÍA 20 ==========\n",
      "inrgresan 595 personas a la instituación\n",
      "posibles infectados con corte en el día: 272\n",
      "========== DÍA 21 ==========\n",
      "inrgresan 582 personas a la instituación\n",
      "posibles infectados con corte en el día: 289\n",
      "========== DÍA 22 ==========\n",
      "inrgresan 565 personas a la instituación\n",
      "posibles infectados con corte en el día: 301\n",
      "========== DÍA 23 ==========\n",
      "inrgresan 553 personas a la instituación\n",
      "posibles infectados con corte en el día: 318\n",
      "========== DÍA 24 ==========\n",
      "inrgresan 536 personas a la instituación\n",
      "posibles infectados con corte en el día: 332\n",
      "========== DÍA 25 ==========\n",
      "inrgresan 522 personas a la instituación\n",
      "posibles infectados con corte en el día: 343\n",
      "========== DÍA 26 ==========\n",
      "inrgresan 511 personas a la instituación\n",
      "posibles infectados con corte en el día: 351\n",
      "========== DÍA 27 ==========\n",
      "inrgresan 503 personas a la instituación\n",
      "posibles infectados con corte en el día: 362\n",
      "========== DÍA 28 ==========\n",
      "inrgresan 492 personas a la instituación\n",
      "posibles infectados con corte en el día: 371\n",
      "========== DÍA 29 ==========\n",
      "inrgresan 483 personas a la instituación\n",
      "posibles infectados con corte en el día: 379\n",
      "========== DÍA 30 ==========\n",
      "inrgresan 475 personas a la instituación\n",
      "posibles infectados con corte en el día: 389\n",
      "========== DÍA 31 ==========\n",
      "se tomo una muestra de: 85 para prueba PCR\n",
      "infectados confirmados: 4\n"
     ]
    }
   ],
   "source": [
    "DIAS=0\n",
    "while (DIAS<=31):\n",
    "    print(\"=\"*10,'DÍA {}'.format(DIAS),\"=\"*10)\n",
    "    env = simpy.Environment()\n",
    "    simulacion = Simulacion()\n",
    "    env.process(simulacion.ejecutar_simulacion(env,filtrar_posibles_contagios()))\n",
    "    env.run(until=TIEMPO_SIMULACION)\n",
    "    if(DIAS==31):\n",
    "        print('infectados confirmados: {}'.format(len([i for i in LISTA_PERSONAS.items() if i[1].infectado ==2]))) \n",
    "    else:\n",
    "        print('posibles infectados con corte en el día: {}'.format(len([i for i in LISTA_PERSONAS.items() if i[1].infectado ==1])))\n",
    "    DIAS+=1"
   ]
  },
  {
   "cell_type": "markdown",
   "metadata": {
    "id": "-AY2NDwbRttE"
   },
   "source": [
    "# Reportes\n",
    "Resumenes de la información de la simulación y analizar resultados"
   ]
  },
  {
   "cell_type": "code",
   "execution_count": 11,
   "metadata": {
    "colab": {
     "base_uri": "https://localhost:8080/",
     "height": 17
    },
    "id": "BoAgRMnTR3yy",
    "outputId": "7332819a-9754-4041-8a14-d7b644cc0435"
   },
   "outputs": [
    {
     "data": {
      "text/html": [
       "        <script type=\"text/javascript\">\n",
       "        window.PlotlyConfig = {MathJaxConfig: 'local'};\n",
       "        if (window.MathJax) {MathJax.Hub.Config({SVG: {font: \"STIX-Web\"}});}\n",
       "        if (typeof require !== 'undefined') {\n",
       "        require.undef(\"plotly\");\n",
       "        requirejs.config({\n",
       "            paths: {\n",
       "                'plotly': ['https://cdn.plot.ly/plotly-latest.min']\n",
       "            }\n",
       "        });\n",
       "        require(['plotly'], function(Plotly) {\n",
       "            window._Plotly = Plotly;\n",
       "        });\n",
       "        }\n",
       "        </script>\n",
       "        "
      ]
     },
     "metadata": {
      "tags": []
     },
     "output_type": "display_data"
    }
   ],
   "source": [
    "import altair as alt\n",
    "import pandas as pd\n",
    "import plotly.express as px\n",
    "import plotly\n",
    "plotly.offline.init_notebook_mode(connected=True)"
   ]
  },
  {
   "cell_type": "markdown",
   "metadata": {
    "id": "IjsnXEpDSFbg"
   },
   "source": [
    "## Estadísticas generales"
   ]
  },
  {
   "cell_type": "code",
   "execution_count": 12,
   "metadata": {
    "colab": {
     "base_uri": "https://localhost:8080/"
    },
    "id": "fSxZLGYASIn6",
    "outputId": "4bbb4dec-3ff8-4905-968b-e687deb9f279"
   },
   "outputs": [
    {
     "name": "stdout",
     "output_type": "stream",
     "text": [
      "Número total de personas en la institución: 854\n",
      "Número total de estudiantes: 804\n",
      "Número total de maestros: 50\n",
      "Número total de personas con posible contagio: 386\n",
      "Número total de personas contagiadas confirmadas: 4\n",
      "Cursos que se cierran: ['octavo_B', 'segundo_C', 'segundo_D', 'tercero_B']\n"
     ]
    }
   ],
   "source": [
    "print('Número total de personas en la institución: {}'.format(len(LISTA_PERSONAS)))\n",
    "print('Número total de estudiantes: {}'.format(len(LISTA_ESTUDIANTES)))\n",
    "print('Número total de maestros: {}'.format(len(LISTA_MAESTROS)))\n",
    "print('Número total de personas con posible contagio: {}'.format(len([i for i in LISTA_PERSONAS.items() if i[1].infectado ==1])))\n",
    "print('Número total de personas contagiadas confirmadas: {}'.format(len([i for i in LISTA_PERSONAS.items() if i[1].infectado ==2])))\n",
    "print('Cursos que se cierran: {}'.format(list(pd.DataFrame([i[1].curso for i in LISTA_PERSONAS.items() if i[1].infectado ==2],columns=['cursos'])['cursos'].unique())))"
   ]
  },
  {
   "cell_type": "markdown",
   "metadata": {
    "id": "IdyhwUP3STon"
   },
   "source": [
    "## Estudiantes y docentes que entran y salen al fin del mes"
   ]
  },
  {
   "cell_type": "code",
   "execution_count": 13,
   "metadata": {
    "colab": {
     "base_uri": "https://localhost:8080/",
     "height": 143
    },
    "id": "od0z-gzgSRAS",
    "outputId": "4e456a27-d3ac-4392-a407-91437e091bc3"
   },
   "outputs": [
    {
     "data": {
      "text/html": [
       "<div>\n",
       "<style scoped>\n",
       "    .dataframe tbody tr th:only-of-type {\n",
       "        vertical-align: middle;\n",
       "    }\n",
       "\n",
       "    .dataframe tbody tr th {\n",
       "        vertical-align: top;\n",
       "    }\n",
       "\n",
       "    .dataframe thead th {\n",
       "        text-align: right;\n",
       "    }\n",
       "</style>\n",
       "<table border=\"1\" class=\"dataframe\">\n",
       "  <thead>\n",
       "    <tr style=\"text-align: right;\">\n",
       "      <th></th>\n",
       "      <th>description</th>\n",
       "      <th>value</th>\n",
       "    </tr>\n",
       "  </thead>\n",
       "  <tbody>\n",
       "    <tr>\n",
       "      <th>0</th>\n",
       "      <td>no infectados</td>\n",
       "      <td>33</td>\n",
       "    </tr>\n",
       "    <tr>\n",
       "      <th>1</th>\n",
       "      <td>posibles infectados</td>\n",
       "      <td>17</td>\n",
       "    </tr>\n",
       "    <tr>\n",
       "      <th>2</th>\n",
       "      <td>infectados</td>\n",
       "      <td>0</td>\n",
       "    </tr>\n",
       "  </tbody>\n",
       "</table>\n",
       "</div>"
      ],
      "text/plain": [
       "           description  value\n",
       "0        no infectados     33\n",
       "1  posibles infectados     17\n",
       "2           infectados      0"
      ]
     },
     "execution_count": 13,
     "metadata": {
      "tags": []
     },
     "output_type": "execute_result"
    }
   ],
   "source": [
    "filtrado_estudiantes = {}\n",
    "filtrado_maestros    = {}\n",
    "for i in LISTA_PERSONAS.items():\n",
    "    if(i[0].find('maestro')!=-1):\n",
    "        filtrado_maestros[i[0]]=i[1]\n",
    "    else:\n",
    "        filtrado_estudiantes[i[0]]=i[1]\n",
    "\n",
    "no_infectados = 0\n",
    "infectados    = 0\n",
    "po_infectados = 0\n",
    "for i in filtrado_maestros.items():\n",
    "    if i[1].infectado==1:\n",
    "        po_infectados+=1\n",
    "    elif i[1].infectado==2:\n",
    "        infectados+=1\n",
    "    else:\n",
    "        no_infectados+=1\n",
    "df_maestro = pd.DataFrame([('no infectados',no_infectados),('posibles infectados',po_infectados),\n",
    "                          ('infectados',infectados)],columns=['description','value'])\n",
    "df_maestro"
   ]
  },
  {
   "cell_type": "code",
   "execution_count": 14,
   "metadata": {
    "colab": {
     "base_uri": "https://localhost:8080/",
     "height": 143
    },
    "id": "Q3BJ_4NQSidI",
    "outputId": "ae057e5a-27a3-4ae6-8b81-0a137dc33a5c"
   },
   "outputs": [
    {
     "data": {
      "text/html": [
       "<div>\n",
       "<style scoped>\n",
       "    .dataframe tbody tr th:only-of-type {\n",
       "        vertical-align: middle;\n",
       "    }\n",
       "\n",
       "    .dataframe tbody tr th {\n",
       "        vertical-align: top;\n",
       "    }\n",
       "\n",
       "    .dataframe thead th {\n",
       "        text-align: right;\n",
       "    }\n",
       "</style>\n",
       "<table border=\"1\" class=\"dataframe\">\n",
       "  <thead>\n",
       "    <tr style=\"text-align: right;\">\n",
       "      <th></th>\n",
       "      <th>description</th>\n",
       "      <th>value</th>\n",
       "    </tr>\n",
       "  </thead>\n",
       "  <tbody>\n",
       "    <tr>\n",
       "      <th>0</th>\n",
       "      <td>no infectados</td>\n",
       "      <td>431</td>\n",
       "    </tr>\n",
       "    <tr>\n",
       "      <th>1</th>\n",
       "      <td>posibles infectados</td>\n",
       "      <td>369</td>\n",
       "    </tr>\n",
       "    <tr>\n",
       "      <th>2</th>\n",
       "      <td>infectados</td>\n",
       "      <td>4</td>\n",
       "    </tr>\n",
       "  </tbody>\n",
       "</table>\n",
       "</div>"
      ],
      "text/plain": [
       "           description  value\n",
       "0        no infectados    431\n",
       "1  posibles infectados    369\n",
       "2           infectados      4"
      ]
     },
     "execution_count": 14,
     "metadata": {
      "tags": []
     },
     "output_type": "execute_result"
    }
   ],
   "source": [
    "no_infectados = 0\n",
    "infectados    = 0\n",
    "po_infectados = 0\n",
    "for i in filtrado_estudiantes.items():\n",
    "    if i[1].infectado==1:\n",
    "        po_infectados+=1\n",
    "    elif i[1].infectado==2:\n",
    "        infectados+=1\n",
    "    else:\n",
    "        no_infectados+=1\n",
    "df_estudiantes = pd.DataFrame([('no infectados',no_infectados),('posibles infectados',po_infectados),\n",
    "                          ('infectados',infectados)],columns=['description','value'])\n",
    "df_estudiantes"
   ]
  },
  {
   "cell_type": "code",
   "execution_count": 15,
   "metadata": {
    "colab": {
     "base_uri": "https://localhost:8080/",
     "height": 285
    },
    "id": "Jxmp4VqASn3i",
    "outputId": "289bfa06-c398-4036-c66e-0b1df6171ea1"
   },
   "outputs": [
    {
     "data": {
      "text/html": [
       "\n",
       "<div id=\"altair-viz-942fb9f3ed504dd2822ae2c19112698d\"></div>\n",
       "<script type=\"text/javascript\">\n",
       "  (function(spec, embedOpt){\n",
       "    let outputDiv = document.currentScript.previousElementSibling;\n",
       "    if (outputDiv.id !== \"altair-viz-942fb9f3ed504dd2822ae2c19112698d\") {\n",
       "      outputDiv = document.getElementById(\"altair-viz-942fb9f3ed504dd2822ae2c19112698d\");\n",
       "    }\n",
       "    const paths = {\n",
       "      \"vega\": \"https://cdn.jsdelivr.net/npm//vega@5?noext\",\n",
       "      \"vega-lib\": \"https://cdn.jsdelivr.net/npm//vega-lib?noext\",\n",
       "      \"vega-lite\": \"https://cdn.jsdelivr.net/npm//vega-lite@4.8.1?noext\",\n",
       "      \"vega-embed\": \"https://cdn.jsdelivr.net/npm//vega-embed@6?noext\",\n",
       "    };\n",
       "\n",
       "    function loadScript(lib) {\n",
       "      return new Promise(function(resolve, reject) {\n",
       "        var s = document.createElement('script');\n",
       "        s.src = paths[lib];\n",
       "        s.async = true;\n",
       "        s.onload = () => resolve(paths[lib]);\n",
       "        s.onerror = () => reject(`Error loading script: ${paths[lib]}`);\n",
       "        document.getElementsByTagName(\"head\")[0].appendChild(s);\n",
       "      });\n",
       "    }\n",
       "\n",
       "    function showError(err) {\n",
       "      outputDiv.innerHTML = `<div class=\"error\" style=\"color:red;\">${err}</div>`;\n",
       "      throw err;\n",
       "    }\n",
       "\n",
       "    function displayChart(vegaEmbed) {\n",
       "      vegaEmbed(outputDiv, spec, embedOpt)\n",
       "        .catch(err => showError(`Javascript Error: ${err.message}<br>This usually means there's a typo in your chart specification. See the javascript console for the full traceback.`));\n",
       "    }\n",
       "\n",
       "    if(typeof define === \"function\" && define.amd) {\n",
       "      requirejs.config({paths});\n",
       "      require([\"vega-embed\"], displayChart, err => showError(`Error loading script: ${err.message}`));\n",
       "    } else if (typeof vegaEmbed === \"function\") {\n",
       "      displayChart(vegaEmbed);\n",
       "    } else {\n",
       "      loadScript(\"vega\")\n",
       "        .then(() => loadScript(\"vega-lite\"))\n",
       "        .then(() => loadScript(\"vega-embed\"))\n",
       "        .catch(showError)\n",
       "        .then(() => displayChart(vegaEmbed));\n",
       "    }\n",
       "  })({\"config\": {\"view\": {\"continuousWidth\": 400, \"continuousHeight\": 300}}, \"vconcat\": [{\"data\": {\"name\": \"data-efdb1c10ba4bccffac7a4a3acd637e44\"}, \"mark\": \"bar\", \"encoding\": {\"color\": {\"condition\": {\"value\": \"red\", \"test\": \"(datum.value === 431)\"}, \"value\": \"lightgrey\"}, \"x\": {\"type\": \"quantitative\", \"field\": \"value\", \"title\": \"cantidad\"}, \"y\": {\"type\": \"nominal\", \"field\": \"description\", \"sort\": {\"field\": \"value\", \"order\": \"ascending\"}, \"title\": \"descripci\\u00f3n\"}}, \"title\": \"Estudiantes contagiados/ no contagiados / posibles contagiados\"}, {\"data\": {\"name\": \"data-f21b3908c56bd4bfeb0606d3182a230d\"}, \"mark\": \"bar\", \"encoding\": {\"color\": {\"condition\": {\"value\": \"red\", \"test\": \"(datum.value === 33)\"}, \"value\": \"lightgrey\"}, \"x\": {\"type\": \"quantitative\", \"field\": \"value\", \"title\": \"cantidad\"}, \"y\": {\"type\": \"nominal\", \"field\": \"description\", \"sort\": {\"field\": \"value\", \"order\": \"ascending\"}, \"title\": \"descripci\\u00f3n\"}}, \"title\": \"Maestros contagiados/ no contagiados / posibles contagiados\"}], \"$schema\": \"https://vega.github.io/schema/vega-lite/v4.8.1.json\", \"datasets\": {\"data-efdb1c10ba4bccffac7a4a3acd637e44\": [{\"description\": \"no infectados\", \"value\": 431}, {\"description\": \"posibles infectados\", \"value\": 369}, {\"description\": \"infectados\", \"value\": 4}], \"data-f21b3908c56bd4bfeb0606d3182a230d\": [{\"description\": \"no infectados\", \"value\": 33}, {\"description\": \"posibles infectados\", \"value\": 17}, {\"description\": \"infectados\", \"value\": 0}]}}, {\"mode\": \"vega-lite\"});\n",
       "</script>"
      ],
      "text/plain": [
       "alt.VConcatChart(...)"
      ]
     },
     "execution_count": 15,
     "metadata": {
      "tags": []
     },
     "output_type": "execute_result"
    }
   ],
   "source": [
    "alt.Chart(df_estudiantes).mark_bar().encode(\n",
    "    y=alt.Y('description',sort=alt.EncodingSortField(field=\"value\",order='ascending'),title='descripción'),\n",
    "    x=alt.X('value',title='cantidad'),\n",
    "    color= alt.condition(\n",
    "            alt.datum.value == max(df_estudiantes['value']),\n",
    "            alt.value('red'),    \n",
    "            alt.value('lightgrey')\n",
    "            )\n",
    ").properties(\n",
    "    title='Estudiantes contagiados/ no contagiados / posibles contagiados'\n",
    ")&alt.Chart(df_maestro).mark_bar().encode(\n",
    "    y=alt.Y('description',sort=alt.EncodingSortField(field=\"value\",order='ascending'),title='descripción'),\n",
    "    x=alt.X('value',title='cantidad'),\n",
    "    color= alt.condition(\n",
    "            alt.datum.value == max(df_maestro['value']),\n",
    "            alt.value('red'),    \n",
    "            alt.value('lightgrey')\n",
    "            )\n",
    ").properties(title='Maestros contagiados/ no contagiados / posibles contagiados')"
   ]
  },
  {
   "cell_type": "code",
   "execution_count": 16,
   "metadata": {
    "colab": {
     "base_uri": "https://localhost:8080/"
    },
    "id": "SRo6GFf7Suri",
    "outputId": "f1205efc-a6d5-474f-be02-43d2181e992c"
   },
   "outputs": [
    {
     "name": "stdout",
     "output_type": "stream",
     "text": [
      "Al final del mes salen un total de : 17 maestros\n",
      "Al final del mes salen un total de : 373 estudiantes\n"
     ]
    }
   ],
   "source": [
    "print('Al final del mes salen un total de : {} maestros'.format(df_maestro[1:3]['value'].sum()))\n",
    "print('Al final del mes salen un total de : {} estudiantes'.format(df_estudiantes[1:3]['value'].sum()))"
   ]
  },
  {
   "cell_type": "markdown",
   "metadata": {
    "id": "JswbJC02S5iY"
   },
   "source": [
    "### Porcentaje de contagiados / no contagiados / posibles contagiados en la institución"
   ]
  },
  {
   "cell_type": "code",
   "execution_count": 19,
   "metadata": {
    "colab": {
     "base_uri": "https://localhost:8080/",
     "height": 143
    },
    "id": "gH_uacf0S4oD",
    "outputId": "1cd04de8-b0dc-43e5-f29c-9ee1e71db472"
   },
   "outputs": [
    {
     "data": {
      "text/html": [
       "<div>\n",
       "<style scoped>\n",
       "    .dataframe tbody tr th:only-of-type {\n",
       "        vertical-align: middle;\n",
       "    }\n",
       "\n",
       "    .dataframe tbody tr th {\n",
       "        vertical-align: top;\n",
       "    }\n",
       "\n",
       "    .dataframe thead th {\n",
       "        text-align: right;\n",
       "    }\n",
       "</style>\n",
       "<table border=\"1\" class=\"dataframe\">\n",
       "  <thead>\n",
       "    <tr style=\"text-align: right;\">\n",
       "      <th></th>\n",
       "      <th>description</th>\n",
       "      <th>value</th>\n",
       "    </tr>\n",
       "  </thead>\n",
       "  <tbody>\n",
       "    <tr>\n",
       "      <th>0</th>\n",
       "      <td>no infectados</td>\n",
       "      <td>0.543326</td>\n",
       "    </tr>\n",
       "    <tr>\n",
       "      <th>1</th>\n",
       "      <td>posibles infectados</td>\n",
       "      <td>0.451991</td>\n",
       "    </tr>\n",
       "    <tr>\n",
       "      <th>2</th>\n",
       "      <td>infectados</td>\n",
       "      <td>0.004684</td>\n",
       "    </tr>\n",
       "  </tbody>\n",
       "</table>\n",
       "</div>"
      ],
      "text/plain": [
       "           description     value\n",
       "0        no infectados  0.543326\n",
       "1  posibles infectados  0.451991\n",
       "2           infectados  0.004684"
      ]
     },
     "execution_count": 19,
     "metadata": {
      "tags": []
     },
     "output_type": "execute_result"
    }
   ],
   "source": [
    "no_infectados = 0\n",
    "infectados    = 0\n",
    "po_infectados = 0\n",
    "for i in LISTA_PERSONAS.items():\n",
    "    if i[1].infectado==1:\n",
    "        po_infectados+=1\n",
    "    elif i[1].infectado==2:\n",
    "        infectados+=1\n",
    "    else:\n",
    "        no_infectados+=1\n",
    "\n",
    "df_general = pd.DataFrame([('no infectados',no_infectados/len(LISTA_PERSONAS)),\n",
    "                           ('posibles infectados',po_infectados/len(LISTA_PERSONAS)),\n",
    "                          ('infectados',infectados/len(LISTA_PERSONAS))],columns=['description','value'])\n",
    "df_general"
   ]
  },
  {
   "cell_type": "code",
   "execution_count": 20,
   "metadata": {
    "colab": {
     "base_uri": "https://localhost:8080/",
     "height": 517
    },
    "id": "tTV-J3roTLQz",
    "outputId": "9fcf3cd3-db0e-4b11-dc2c-8c88ab459b9f"
   },
   "outputs": [
    {
     "data": {
      "application/vnd.plotly.v1+json": {
       "config": {
        "plotlyServerURL": "https://plot.ly"
       },
       "data": [
        {
         "domain": {
          "x": [
           0,
           1
          ],
          "y": [
           0,
           1
          ]
         },
         "hoverlabel": {
          "namelength": 0
         },
         "hovertemplate": "description=%{label}<br>value=%{value}",
         "labels": [
          "no infectados",
          "posibles infectados",
          "infectados"
         ],
         "legendgroup": "",
         "name": "",
         "showlegend": true,
         "type": "pie",
         "values": [
          0.5433255269320844,
          0.4519906323185012,
          0.00468384074941452
         ]
        }
       ],
       "layout": {
        "height": 500,
        "legend": {
         "tracegroupgap": 0
        },
        "margin": {
         "t": 60
        },
        "piecolorway": [
         "red",
         "lightgrey",
         "darkgrey"
        ],
        "template": {
         "data": {
          "bar": [
           {
            "error_x": {
             "color": "#2a3f5f"
            },
            "error_y": {
             "color": "#2a3f5f"
            },
            "marker": {
             "line": {
              "color": "#E5ECF6",
              "width": 0.5
             }
            },
            "type": "bar"
           }
          ],
          "barpolar": [
           {
            "marker": {
             "line": {
              "color": "#E5ECF6",
              "width": 0.5
             }
            },
            "type": "barpolar"
           }
          ],
          "carpet": [
           {
            "aaxis": {
             "endlinecolor": "#2a3f5f",
             "gridcolor": "white",
             "linecolor": "white",
             "minorgridcolor": "white",
             "startlinecolor": "#2a3f5f"
            },
            "baxis": {
             "endlinecolor": "#2a3f5f",
             "gridcolor": "white",
             "linecolor": "white",
             "minorgridcolor": "white",
             "startlinecolor": "#2a3f5f"
            },
            "type": "carpet"
           }
          ],
          "choropleth": [
           {
            "colorbar": {
             "outlinewidth": 0,
             "ticks": ""
            },
            "type": "choropleth"
           }
          ],
          "contour": [
           {
            "colorbar": {
             "outlinewidth": 0,
             "ticks": ""
            },
            "colorscale": [
             [
              0,
              "#0d0887"
             ],
             [
              0.1111111111111111,
              "#46039f"
             ],
             [
              0.2222222222222222,
              "#7201a8"
             ],
             [
              0.3333333333333333,
              "#9c179e"
             ],
             [
              0.4444444444444444,
              "#bd3786"
             ],
             [
              0.5555555555555556,
              "#d8576b"
             ],
             [
              0.6666666666666666,
              "#ed7953"
             ],
             [
              0.7777777777777778,
              "#fb9f3a"
             ],
             [
              0.8888888888888888,
              "#fdca26"
             ],
             [
              1,
              "#f0f921"
             ]
            ],
            "type": "contour"
           }
          ],
          "contourcarpet": [
           {
            "colorbar": {
             "outlinewidth": 0,
             "ticks": ""
            },
            "type": "contourcarpet"
           }
          ],
          "heatmap": [
           {
            "colorbar": {
             "outlinewidth": 0,
             "ticks": ""
            },
            "colorscale": [
             [
              0,
              "#0d0887"
             ],
             [
              0.1111111111111111,
              "#46039f"
             ],
             [
              0.2222222222222222,
              "#7201a8"
             ],
             [
              0.3333333333333333,
              "#9c179e"
             ],
             [
              0.4444444444444444,
              "#bd3786"
             ],
             [
              0.5555555555555556,
              "#d8576b"
             ],
             [
              0.6666666666666666,
              "#ed7953"
             ],
             [
              0.7777777777777778,
              "#fb9f3a"
             ],
             [
              0.8888888888888888,
              "#fdca26"
             ],
             [
              1,
              "#f0f921"
             ]
            ],
            "type": "heatmap"
           }
          ],
          "heatmapgl": [
           {
            "colorbar": {
             "outlinewidth": 0,
             "ticks": ""
            },
            "colorscale": [
             [
              0,
              "#0d0887"
             ],
             [
              0.1111111111111111,
              "#46039f"
             ],
             [
              0.2222222222222222,
              "#7201a8"
             ],
             [
              0.3333333333333333,
              "#9c179e"
             ],
             [
              0.4444444444444444,
              "#bd3786"
             ],
             [
              0.5555555555555556,
              "#d8576b"
             ],
             [
              0.6666666666666666,
              "#ed7953"
             ],
             [
              0.7777777777777778,
              "#fb9f3a"
             ],
             [
              0.8888888888888888,
              "#fdca26"
             ],
             [
              1,
              "#f0f921"
             ]
            ],
            "type": "heatmapgl"
           }
          ],
          "histogram": [
           {
            "marker": {
             "colorbar": {
              "outlinewidth": 0,
              "ticks": ""
             }
            },
            "type": "histogram"
           }
          ],
          "histogram2d": [
           {
            "colorbar": {
             "outlinewidth": 0,
             "ticks": ""
            },
            "colorscale": [
             [
              0,
              "#0d0887"
             ],
             [
              0.1111111111111111,
              "#46039f"
             ],
             [
              0.2222222222222222,
              "#7201a8"
             ],
             [
              0.3333333333333333,
              "#9c179e"
             ],
             [
              0.4444444444444444,
              "#bd3786"
             ],
             [
              0.5555555555555556,
              "#d8576b"
             ],
             [
              0.6666666666666666,
              "#ed7953"
             ],
             [
              0.7777777777777778,
              "#fb9f3a"
             ],
             [
              0.8888888888888888,
              "#fdca26"
             ],
             [
              1,
              "#f0f921"
             ]
            ],
            "type": "histogram2d"
           }
          ],
          "histogram2dcontour": [
           {
            "colorbar": {
             "outlinewidth": 0,
             "ticks": ""
            },
            "colorscale": [
             [
              0,
              "#0d0887"
             ],
             [
              0.1111111111111111,
              "#46039f"
             ],
             [
              0.2222222222222222,
              "#7201a8"
             ],
             [
              0.3333333333333333,
              "#9c179e"
             ],
             [
              0.4444444444444444,
              "#bd3786"
             ],
             [
              0.5555555555555556,
              "#d8576b"
             ],
             [
              0.6666666666666666,
              "#ed7953"
             ],
             [
              0.7777777777777778,
              "#fb9f3a"
             ],
             [
              0.8888888888888888,
              "#fdca26"
             ],
             [
              1,
              "#f0f921"
             ]
            ],
            "type": "histogram2dcontour"
           }
          ],
          "mesh3d": [
           {
            "colorbar": {
             "outlinewidth": 0,
             "ticks": ""
            },
            "type": "mesh3d"
           }
          ],
          "parcoords": [
           {
            "line": {
             "colorbar": {
              "outlinewidth": 0,
              "ticks": ""
             }
            },
            "type": "parcoords"
           }
          ],
          "pie": [
           {
            "automargin": true,
            "type": "pie"
           }
          ],
          "scatter": [
           {
            "marker": {
             "colorbar": {
              "outlinewidth": 0,
              "ticks": ""
             }
            },
            "type": "scatter"
           }
          ],
          "scatter3d": [
           {
            "line": {
             "colorbar": {
              "outlinewidth": 0,
              "ticks": ""
             }
            },
            "marker": {
             "colorbar": {
              "outlinewidth": 0,
              "ticks": ""
             }
            },
            "type": "scatter3d"
           }
          ],
          "scattercarpet": [
           {
            "marker": {
             "colorbar": {
              "outlinewidth": 0,
              "ticks": ""
             }
            },
            "type": "scattercarpet"
           }
          ],
          "scattergeo": [
           {
            "marker": {
             "colorbar": {
              "outlinewidth": 0,
              "ticks": ""
             }
            },
            "type": "scattergeo"
           }
          ],
          "scattergl": [
           {
            "marker": {
             "colorbar": {
              "outlinewidth": 0,
              "ticks": ""
             }
            },
            "type": "scattergl"
           }
          ],
          "scattermapbox": [
           {
            "marker": {
             "colorbar": {
              "outlinewidth": 0,
              "ticks": ""
             }
            },
            "type": "scattermapbox"
           }
          ],
          "scatterpolar": [
           {
            "marker": {
             "colorbar": {
              "outlinewidth": 0,
              "ticks": ""
             }
            },
            "type": "scatterpolar"
           }
          ],
          "scatterpolargl": [
           {
            "marker": {
             "colorbar": {
              "outlinewidth": 0,
              "ticks": ""
             }
            },
            "type": "scatterpolargl"
           }
          ],
          "scatterternary": [
           {
            "marker": {
             "colorbar": {
              "outlinewidth": 0,
              "ticks": ""
             }
            },
            "type": "scatterternary"
           }
          ],
          "surface": [
           {
            "colorbar": {
             "outlinewidth": 0,
             "ticks": ""
            },
            "colorscale": [
             [
              0,
              "#0d0887"
             ],
             [
              0.1111111111111111,
              "#46039f"
             ],
             [
              0.2222222222222222,
              "#7201a8"
             ],
             [
              0.3333333333333333,
              "#9c179e"
             ],
             [
              0.4444444444444444,
              "#bd3786"
             ],
             [
              0.5555555555555556,
              "#d8576b"
             ],
             [
              0.6666666666666666,
              "#ed7953"
             ],
             [
              0.7777777777777778,
              "#fb9f3a"
             ],
             [
              0.8888888888888888,
              "#fdca26"
             ],
             [
              1,
              "#f0f921"
             ]
            ],
            "type": "surface"
           }
          ],
          "table": [
           {
            "cells": {
             "fill": {
              "color": "#EBF0F8"
             },
             "line": {
              "color": "white"
             }
            },
            "header": {
             "fill": {
              "color": "#C8D4E3"
             },
             "line": {
              "color": "white"
             }
            },
            "type": "table"
           }
          ]
         },
         "layout": {
          "annotationdefaults": {
           "arrowcolor": "#2a3f5f",
           "arrowhead": 0,
           "arrowwidth": 1
          },
          "coloraxis": {
           "colorbar": {
            "outlinewidth": 0,
            "ticks": ""
           }
          },
          "colorscale": {
           "diverging": [
            [
             0,
             "#8e0152"
            ],
            [
             0.1,
             "#c51b7d"
            ],
            [
             0.2,
             "#de77ae"
            ],
            [
             0.3,
             "#f1b6da"
            ],
            [
             0.4,
             "#fde0ef"
            ],
            [
             0.5,
             "#f7f7f7"
            ],
            [
             0.6,
             "#e6f5d0"
            ],
            [
             0.7,
             "#b8e186"
            ],
            [
             0.8,
             "#7fbc41"
            ],
            [
             0.9,
             "#4d9221"
            ],
            [
             1,
             "#276419"
            ]
           ],
           "sequential": [
            [
             0,
             "#0d0887"
            ],
            [
             0.1111111111111111,
             "#46039f"
            ],
            [
             0.2222222222222222,
             "#7201a8"
            ],
            [
             0.3333333333333333,
             "#9c179e"
            ],
            [
             0.4444444444444444,
             "#bd3786"
            ],
            [
             0.5555555555555556,
             "#d8576b"
            ],
            [
             0.6666666666666666,
             "#ed7953"
            ],
            [
             0.7777777777777778,
             "#fb9f3a"
            ],
            [
             0.8888888888888888,
             "#fdca26"
            ],
            [
             1,
             "#f0f921"
            ]
           ],
           "sequentialminus": [
            [
             0,
             "#0d0887"
            ],
            [
             0.1111111111111111,
             "#46039f"
            ],
            [
             0.2222222222222222,
             "#7201a8"
            ],
            [
             0.3333333333333333,
             "#9c179e"
            ],
            [
             0.4444444444444444,
             "#bd3786"
            ],
            [
             0.5555555555555556,
             "#d8576b"
            ],
            [
             0.6666666666666666,
             "#ed7953"
            ],
            [
             0.7777777777777778,
             "#fb9f3a"
            ],
            [
             0.8888888888888888,
             "#fdca26"
            ],
            [
             1,
             "#f0f921"
            ]
           ]
          },
          "colorway": [
           "#636efa",
           "#EF553B",
           "#00cc96",
           "#ab63fa",
           "#FFA15A",
           "#19d3f3",
           "#FF6692",
           "#B6E880",
           "#FF97FF",
           "#FECB52"
          ],
          "font": {
           "color": "#2a3f5f"
          },
          "geo": {
           "bgcolor": "white",
           "lakecolor": "white",
           "landcolor": "#E5ECF6",
           "showlakes": true,
           "showland": true,
           "subunitcolor": "white"
          },
          "hoverlabel": {
           "align": "left"
          },
          "hovermode": "closest",
          "mapbox": {
           "style": "light"
          },
          "paper_bgcolor": "white",
          "plot_bgcolor": "#E5ECF6",
          "polar": {
           "angularaxis": {
            "gridcolor": "white",
            "linecolor": "white",
            "ticks": ""
           },
           "bgcolor": "#E5ECF6",
           "radialaxis": {
            "gridcolor": "white",
            "linecolor": "white",
            "ticks": ""
           }
          },
          "scene": {
           "xaxis": {
            "backgroundcolor": "#E5ECF6",
            "gridcolor": "white",
            "gridwidth": 2,
            "linecolor": "white",
            "showbackground": true,
            "ticks": "",
            "zerolinecolor": "white"
           },
           "yaxis": {
            "backgroundcolor": "#E5ECF6",
            "gridcolor": "white",
            "gridwidth": 2,
            "linecolor": "white",
            "showbackground": true,
            "ticks": "",
            "zerolinecolor": "white"
           },
           "zaxis": {
            "backgroundcolor": "#E5ECF6",
            "gridcolor": "white",
            "gridwidth": 2,
            "linecolor": "white",
            "showbackground": true,
            "ticks": "",
            "zerolinecolor": "white"
           }
          },
          "shapedefaults": {
           "line": {
            "color": "#2a3f5f"
           }
          },
          "ternary": {
           "aaxis": {
            "gridcolor": "white",
            "linecolor": "white",
            "ticks": ""
           },
           "baxis": {
            "gridcolor": "white",
            "linecolor": "white",
            "ticks": ""
           },
           "bgcolor": "#E5ECF6",
           "caxis": {
            "gridcolor": "white",
            "linecolor": "white",
            "ticks": ""
           }
          },
          "title": {
           "x": 0.05
          },
          "xaxis": {
           "automargin": true,
           "gridcolor": "white",
           "linecolor": "white",
           "ticks": "",
           "title": {
            "standoff": 15
           },
           "zerolinecolor": "white",
           "zerolinewidth": 2
          },
          "yaxis": {
           "automargin": true,
           "gridcolor": "white",
           "linecolor": "white",
           "ticks": "",
           "title": {
            "standoff": 15
           },
           "zerolinecolor": "white",
           "zerolinewidth": 2
          }
         }
        },
        "title": {
         "text": "contagiados / no contagiados / posibles contagiados en la institución de la Salle",
         "x": 0.5
        },
        "width": 1000
       }
      },
      "text/html": [
       "<div>\n",
       "        \n",
       "        \n",
       "            <div id=\"796e554a-d2ca-4d92-8c54-408b3638e588\" class=\"plotly-graph-div\" style=\"height:500px; width:1000px;\"></div>\n",
       "            <script type=\"text/javascript\">\n",
       "                require([\"plotly\"], function(Plotly) {\n",
       "                    window.PLOTLYENV=window.PLOTLYENV || {};\n",
       "                    \n",
       "                if (document.getElementById(\"796e554a-d2ca-4d92-8c54-408b3638e588\")) {\n",
       "                    Plotly.newPlot(\n",
       "                        '796e554a-d2ca-4d92-8c54-408b3638e588',\n",
       "                        [{\"domain\": {\"x\": [0.0, 1.0], \"y\": [0.0, 1.0]}, \"hoverlabel\": {\"namelength\": 0}, \"hovertemplate\": \"description=%{label}<br>value=%{value}\", \"labels\": [\"no infectados\", \"posibles infectados\", \"infectados\"], \"legendgroup\": \"\", \"name\": \"\", \"showlegend\": true, \"type\": \"pie\", \"values\": [0.5433255269320844, 0.4519906323185012, 0.00468384074941452]}],\n",
       "                        {\"height\": 500, \"legend\": {\"tracegroupgap\": 0}, \"margin\": {\"t\": 60}, \"piecolorway\": [\"red\", \"lightgrey\", \"darkgrey\"], \"template\": {\"data\": {\"bar\": [{\"error_x\": {\"color\": \"#2a3f5f\"}, \"error_y\": {\"color\": \"#2a3f5f\"}, \"marker\": {\"line\": {\"color\": \"#E5ECF6\", \"width\": 0.5}}, \"type\": \"bar\"}], \"barpolar\": [{\"marker\": {\"line\": {\"color\": \"#E5ECF6\", \"width\": 0.5}}, \"type\": \"barpolar\"}], \"carpet\": [{\"aaxis\": {\"endlinecolor\": \"#2a3f5f\", \"gridcolor\": \"white\", \"linecolor\": \"white\", \"minorgridcolor\": \"white\", \"startlinecolor\": \"#2a3f5f\"}, \"baxis\": {\"endlinecolor\": \"#2a3f5f\", \"gridcolor\": \"white\", \"linecolor\": \"white\", \"minorgridcolor\": \"white\", \"startlinecolor\": \"#2a3f5f\"}, \"type\": \"carpet\"}], \"choropleth\": [{\"colorbar\": {\"outlinewidth\": 0, \"ticks\": \"\"}, \"type\": \"choropleth\"}], \"contour\": [{\"colorbar\": {\"outlinewidth\": 0, \"ticks\": \"\"}, \"colorscale\": [[0.0, \"#0d0887\"], [0.1111111111111111, \"#46039f\"], [0.2222222222222222, \"#7201a8\"], [0.3333333333333333, \"#9c179e\"], [0.4444444444444444, \"#bd3786\"], [0.5555555555555556, \"#d8576b\"], [0.6666666666666666, \"#ed7953\"], [0.7777777777777778, \"#fb9f3a\"], [0.8888888888888888, \"#fdca26\"], [1.0, \"#f0f921\"]], \"type\": \"contour\"}], \"contourcarpet\": [{\"colorbar\": {\"outlinewidth\": 0, \"ticks\": \"\"}, \"type\": \"contourcarpet\"}], \"heatmap\": [{\"colorbar\": {\"outlinewidth\": 0, \"ticks\": \"\"}, \"colorscale\": [[0.0, \"#0d0887\"], [0.1111111111111111, \"#46039f\"], [0.2222222222222222, \"#7201a8\"], [0.3333333333333333, \"#9c179e\"], [0.4444444444444444, \"#bd3786\"], [0.5555555555555556, \"#d8576b\"], [0.6666666666666666, \"#ed7953\"], [0.7777777777777778, \"#fb9f3a\"], [0.8888888888888888, \"#fdca26\"], [1.0, \"#f0f921\"]], \"type\": \"heatmap\"}], \"heatmapgl\": [{\"colorbar\": {\"outlinewidth\": 0, \"ticks\": \"\"}, \"colorscale\": [[0.0, \"#0d0887\"], [0.1111111111111111, \"#46039f\"], [0.2222222222222222, \"#7201a8\"], [0.3333333333333333, \"#9c179e\"], [0.4444444444444444, \"#bd3786\"], [0.5555555555555556, \"#d8576b\"], [0.6666666666666666, \"#ed7953\"], [0.7777777777777778, \"#fb9f3a\"], [0.8888888888888888, \"#fdca26\"], [1.0, \"#f0f921\"]], \"type\": \"heatmapgl\"}], \"histogram\": [{\"marker\": {\"colorbar\": {\"outlinewidth\": 0, \"ticks\": \"\"}}, \"type\": \"histogram\"}], \"histogram2d\": [{\"colorbar\": {\"outlinewidth\": 0, \"ticks\": \"\"}, \"colorscale\": [[0.0, \"#0d0887\"], [0.1111111111111111, \"#46039f\"], [0.2222222222222222, \"#7201a8\"], [0.3333333333333333, \"#9c179e\"], [0.4444444444444444, \"#bd3786\"], [0.5555555555555556, \"#d8576b\"], [0.6666666666666666, \"#ed7953\"], [0.7777777777777778, \"#fb9f3a\"], [0.8888888888888888, \"#fdca26\"], [1.0, \"#f0f921\"]], \"type\": \"histogram2d\"}], \"histogram2dcontour\": [{\"colorbar\": {\"outlinewidth\": 0, \"ticks\": \"\"}, \"colorscale\": [[0.0, \"#0d0887\"], [0.1111111111111111, \"#46039f\"], [0.2222222222222222, \"#7201a8\"], [0.3333333333333333, \"#9c179e\"], [0.4444444444444444, \"#bd3786\"], [0.5555555555555556, \"#d8576b\"], [0.6666666666666666, \"#ed7953\"], [0.7777777777777778, \"#fb9f3a\"], [0.8888888888888888, \"#fdca26\"], [1.0, \"#f0f921\"]], \"type\": \"histogram2dcontour\"}], \"mesh3d\": [{\"colorbar\": {\"outlinewidth\": 0, \"ticks\": \"\"}, \"type\": \"mesh3d\"}], \"parcoords\": [{\"line\": {\"colorbar\": {\"outlinewidth\": 0, \"ticks\": \"\"}}, \"type\": \"parcoords\"}], \"pie\": [{\"automargin\": true, \"type\": \"pie\"}], \"scatter\": [{\"marker\": {\"colorbar\": {\"outlinewidth\": 0, \"ticks\": \"\"}}, \"type\": \"scatter\"}], \"scatter3d\": [{\"line\": {\"colorbar\": {\"outlinewidth\": 0, \"ticks\": \"\"}}, \"marker\": {\"colorbar\": {\"outlinewidth\": 0, \"ticks\": \"\"}}, \"type\": \"scatter3d\"}], \"scattercarpet\": [{\"marker\": {\"colorbar\": {\"outlinewidth\": 0, \"ticks\": \"\"}}, \"type\": \"scattercarpet\"}], \"scattergeo\": [{\"marker\": {\"colorbar\": {\"outlinewidth\": 0, \"ticks\": \"\"}}, \"type\": \"scattergeo\"}], \"scattergl\": [{\"marker\": {\"colorbar\": {\"outlinewidth\": 0, \"ticks\": \"\"}}, \"type\": \"scattergl\"}], \"scattermapbox\": [{\"marker\": {\"colorbar\": {\"outlinewidth\": 0, \"ticks\": \"\"}}, \"type\": \"scattermapbox\"}], \"scatterpolar\": [{\"marker\": {\"colorbar\": {\"outlinewidth\": 0, \"ticks\": \"\"}}, \"type\": \"scatterpolar\"}], \"scatterpolargl\": [{\"marker\": {\"colorbar\": {\"outlinewidth\": 0, \"ticks\": \"\"}}, \"type\": \"scatterpolargl\"}], \"scatterternary\": [{\"marker\": {\"colorbar\": {\"outlinewidth\": 0, \"ticks\": \"\"}}, \"type\": \"scatterternary\"}], \"surface\": [{\"colorbar\": {\"outlinewidth\": 0, \"ticks\": \"\"}, \"colorscale\": [[0.0, \"#0d0887\"], [0.1111111111111111, \"#46039f\"], [0.2222222222222222, \"#7201a8\"], [0.3333333333333333, \"#9c179e\"], [0.4444444444444444, \"#bd3786\"], [0.5555555555555556, \"#d8576b\"], [0.6666666666666666, \"#ed7953\"], [0.7777777777777778, \"#fb9f3a\"], [0.8888888888888888, \"#fdca26\"], [1.0, \"#f0f921\"]], \"type\": \"surface\"}], \"table\": [{\"cells\": {\"fill\": {\"color\": \"#EBF0F8\"}, \"line\": {\"color\": \"white\"}}, \"header\": {\"fill\": {\"color\": \"#C8D4E3\"}, \"line\": {\"color\": \"white\"}}, \"type\": \"table\"}]}, \"layout\": {\"annotationdefaults\": {\"arrowcolor\": \"#2a3f5f\", \"arrowhead\": 0, \"arrowwidth\": 1}, \"coloraxis\": {\"colorbar\": {\"outlinewidth\": 0, \"ticks\": \"\"}}, \"colorscale\": {\"diverging\": [[0, \"#8e0152\"], [0.1, \"#c51b7d\"], [0.2, \"#de77ae\"], [0.3, \"#f1b6da\"], [0.4, \"#fde0ef\"], [0.5, \"#f7f7f7\"], [0.6, \"#e6f5d0\"], [0.7, \"#b8e186\"], [0.8, \"#7fbc41\"], [0.9, \"#4d9221\"], [1, \"#276419\"]], \"sequential\": [[0.0, \"#0d0887\"], [0.1111111111111111, \"#46039f\"], [0.2222222222222222, \"#7201a8\"], [0.3333333333333333, \"#9c179e\"], [0.4444444444444444, \"#bd3786\"], [0.5555555555555556, \"#d8576b\"], [0.6666666666666666, \"#ed7953\"], [0.7777777777777778, \"#fb9f3a\"], [0.8888888888888888, \"#fdca26\"], [1.0, \"#f0f921\"]], \"sequentialminus\": [[0.0, \"#0d0887\"], [0.1111111111111111, \"#46039f\"], [0.2222222222222222, \"#7201a8\"], [0.3333333333333333, \"#9c179e\"], [0.4444444444444444, \"#bd3786\"], [0.5555555555555556, \"#d8576b\"], [0.6666666666666666, \"#ed7953\"], [0.7777777777777778, \"#fb9f3a\"], [0.8888888888888888, \"#fdca26\"], [1.0, \"#f0f921\"]]}, \"colorway\": [\"#636efa\", \"#EF553B\", \"#00cc96\", \"#ab63fa\", \"#FFA15A\", \"#19d3f3\", \"#FF6692\", \"#B6E880\", \"#FF97FF\", \"#FECB52\"], \"font\": {\"color\": \"#2a3f5f\"}, \"geo\": {\"bgcolor\": \"white\", \"lakecolor\": \"white\", \"landcolor\": \"#E5ECF6\", \"showlakes\": true, \"showland\": true, \"subunitcolor\": \"white\"}, \"hoverlabel\": {\"align\": \"left\"}, \"hovermode\": \"closest\", \"mapbox\": {\"style\": \"light\"}, \"paper_bgcolor\": \"white\", \"plot_bgcolor\": \"#E5ECF6\", \"polar\": {\"angularaxis\": {\"gridcolor\": \"white\", \"linecolor\": \"white\", \"ticks\": \"\"}, \"bgcolor\": \"#E5ECF6\", \"radialaxis\": {\"gridcolor\": \"white\", \"linecolor\": \"white\", \"ticks\": \"\"}}, \"scene\": {\"xaxis\": {\"backgroundcolor\": \"#E5ECF6\", \"gridcolor\": \"white\", \"gridwidth\": 2, \"linecolor\": \"white\", \"showbackground\": true, \"ticks\": \"\", \"zerolinecolor\": \"white\"}, \"yaxis\": {\"backgroundcolor\": \"#E5ECF6\", \"gridcolor\": \"white\", \"gridwidth\": 2, \"linecolor\": \"white\", \"showbackground\": true, \"ticks\": \"\", \"zerolinecolor\": \"white\"}, \"zaxis\": {\"backgroundcolor\": \"#E5ECF6\", \"gridcolor\": \"white\", \"gridwidth\": 2, \"linecolor\": \"white\", \"showbackground\": true, \"ticks\": \"\", \"zerolinecolor\": \"white\"}}, \"shapedefaults\": {\"line\": {\"color\": \"#2a3f5f\"}}, \"ternary\": {\"aaxis\": {\"gridcolor\": \"white\", \"linecolor\": \"white\", \"ticks\": \"\"}, \"baxis\": {\"gridcolor\": \"white\", \"linecolor\": \"white\", \"ticks\": \"\"}, \"bgcolor\": \"#E5ECF6\", \"caxis\": {\"gridcolor\": \"white\", \"linecolor\": \"white\", \"ticks\": \"\"}}, \"title\": {\"x\": 0.05}, \"xaxis\": {\"automargin\": true, \"gridcolor\": \"white\", \"linecolor\": \"white\", \"ticks\": \"\", \"title\": {\"standoff\": 15}, \"zerolinecolor\": \"white\", \"zerolinewidth\": 2}, \"yaxis\": {\"automargin\": true, \"gridcolor\": \"white\", \"linecolor\": \"white\", \"ticks\": \"\", \"title\": {\"standoff\": 15}, \"zerolinecolor\": \"white\", \"zerolinewidth\": 2}}}, \"title\": {\"text\": \"contagiados / no contagiados / posibles contagiados en la instituci\\u00f3n de la Salle\", \"x\": 0.5}, \"width\": 1000},\n",
       "                        {\"responsive\": true}\n",
       "                    ).then(function(){\n",
       "                            \n",
       "var gd = document.getElementById('796e554a-d2ca-4d92-8c54-408b3638e588');\n",
       "var x = new MutationObserver(function (mutations, observer) {{\n",
       "        var display = window.getComputedStyle(gd).display;\n",
       "        if (!display || display === 'none') {{\n",
       "            console.log([gd, 'removed!']);\n",
       "            Plotly.purge(gd);\n",
       "            observer.disconnect();\n",
       "        }}\n",
       "}});\n",
       "\n",
       "// Listen for the removal of the full notebook cells\n",
       "var notebookContainer = gd.closest('#notebook-container');\n",
       "if (notebookContainer) {{\n",
       "    x.observe(notebookContainer, {childList: true});\n",
       "}}\n",
       "\n",
       "// Listen for the clearing of the current output cell\n",
       "var outputEl = gd.closest('.output');\n",
       "if (outputEl) {{\n",
       "    x.observe(outputEl, {childList: true});\n",
       "}}\n",
       "\n",
       "                        })\n",
       "                };\n",
       "                });\n",
       "            </script>\n",
       "        </div>"
      ]
     },
     "metadata": {
      "tags": []
     },
     "output_type": "display_data"
    }
   ],
   "source": [
    "fig = px.pie(df_general, values=\"value\",\n",
    "             names=\"description\", \n",
    "             color_discrete_sequence=['red','lightgrey','darkgrey'],width=1000,height=500)\n",
    "fig.update_layout(title_text='contagiados / no contagiados / posibles contagiados en la institución de la Salle', title_x=0.5)"
   ]
  }
 ],
 "metadata": {
  "colab": {
   "name": "Prueba.ipynb",
   "provenance": []
  },
  "kernelspec": {
   "display_name": "Python 3",
   "language": "python",
   "name": "python3"
  },
  "language_info": {
   "name": "python"
  }
 },
 "nbformat": 4,
 "nbformat_minor": 1
}
